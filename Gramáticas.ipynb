{
  "metadata": {
    "kernelspec": {
      "name": "python",
      "display_name": "Python (Pyodide)",
      "language": "python"
    },
    "language_info": {
      "codemirror_mode": {
        "name": "python",
        "version": 3
      },
      "file_extension": ".py",
      "mimetype": "text/x-python",
      "name": "python",
      "nbconvert_exporter": "python",
      "pygments_lexer": "ipython3",
      "version": "3.8"
    }
  },
  "nbformat_minor": 4,
  "nbformat": 4,
  "cells": [
    {
      "cell_type": "code",
      "source": "class Regla:\n    # Variables de clase para el contador\n    contador = 0\n    \n    def __init__(self,izquierda,derecha):\n        # Incrementa el contador cada vez que se crea una instancia\n        self.left=izquierda\n        self.right=derecha\n        Regla.contador += 1\n\n    def __repr__(self):\n        repr_str = f'{self.contador} {self.left}->'\n        for elemento in self.right:\n            repr_str += f' {elemento}'\n        return repr_str",
      "metadata": {
        "trusted": true
      },
      "outputs": [],
      "execution_count": 97
    },
    {
      "cell_type": "code",
      "source": "# Ejemplo de uso:\nregla1 = Regla(\"A\", (\"B\", \"C\", \"D\"))\nprint(regla1)  # Imprimirá: Regla 1: A -> B, C, D\n\nregla2 = Regla(\"X\", (\"Y\", \"Z\"))\nprint(regla2)  # Imprimirá: Regla 2: X -> Y, Z",
      "metadata": {
        "trusted": true
      },
      "outputs": [
        {
          "name": "stdout",
          "text": "1 A-> B C D\n2 X-> Y Z\n",
          "output_type": "stream"
        }
      ],
      "execution_count": 98
    },
    {
      "cell_type": "code",
      "source": "",
      "metadata": {
        "trusted": true
      },
      "outputs": [],
      "execution_count": null
    }
  ]
}